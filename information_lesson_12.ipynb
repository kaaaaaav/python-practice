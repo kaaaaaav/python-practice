{
  "nbformat": 4,
  "nbformat_minor": 0,
  "metadata": {
    "colab": {
      "provenance": [],
      "authorship_tag": "ABX9TyMDCZ62kMjgEueHPd3iL9iX",
      "include_colab_link": true
    },
    "kernelspec": {
      "name": "python3",
      "display_name": "Python 3"
    },
    "language_info": {
      "name": "python"
    }
  },
  "cells": [
    {
      "cell_type": "markdown",
      "metadata": {
        "id": "view-in-github",
        "colab_type": "text"
      },
      "source": [
        "<a href=\"https://colab.research.google.com/github/kaaaaaav/python-practice/blob/information/information_lesson_12.ipynb\" target=\"_parent\"><img src=\"https://colab.research.google.com/assets/colab-badge.svg\" alt=\"Open In Colab\"/></a>"
      ]
    },
    {
      "cell_type": "code",
      "execution_count": null,
      "metadata": {
        "colab": {
          "base_uri": "https://localhost:8080/"
        },
        "id": "oHQlA61Cet_-",
        "outputId": "ca69e9b9-30bb-4935-e283-a8813a866d6a"
      },
      "outputs": [
        {
          "output_type": "execute_result",
          "data": {
            "text/plain": [
              "range(0, 7)"
            ]
          },
          "metadata": {},
          "execution_count": 12
        }
      ],
      "source": [
        "# range 함수의 다양한 형태\n",
        "# range(a,b) -> a에서 b-1까지 연속되어 숫자 범위로 이루어진 형태로 1씩 증가한다. (a 이상 b 미만)\n",
        "# range(4, 9) -> 4 이상 9 미만(4,5,6,7,8)\n",
        "range(4, 9)\n",
        "# range(a) -> \"0\"에서부터 a-1까지 연속된 숫자 범위로 1씩 증가한다. (0 이상 a 미만)\n",
        "# range(7) -> 0 이상 7 미만(0,1,2,3,4,5,6)\n",
        "range(7)\n",
        "# range(a,b,c) -> a에서 b-1까지 연속되어 숫자 범위로 이루어진 형태로 c씩 증가한다. (a 이상 b 미만 c씩 증가)"
      ]
    },
    {
      "cell_type": "code",
      "source": [
        "# while문 - ~하는 동안\n",
        "num = 12\n",
        "while num <= 523: #변수 num이 5보다 작거나 같은 동안\n",
        "  print(num)\n",
        "  num += 35 # (= num = num + 35) - > 523보다 작은 동안에는 다시 3번 행으로 되돌아감\n",
        "# while 블록 아래에 들여쓰기한 코드가 하나도 없으면 오류가 뜬다"
      ],
      "metadata": {
        "colab": {
          "base_uri": "https://localhost:8080/"
        },
        "id": "iE5srKfdhGsq",
        "outputId": "b0ac7a60-2b46-4cb2-986c-55d63c4198a8"
      },
      "execution_count": null,
      "outputs": [
        {
          "output_type": "stream",
          "name": "stdout",
          "text": [
            "12\n",
            "47\n",
            "82\n",
            "117\n",
            "152\n",
            "187\n",
            "222\n",
            "257\n",
            "292\n",
            "327\n",
            "362\n",
            "397\n",
            "432\n",
            "467\n",
            "502\n"
          ]
        }
      ]
    },
    {
      "cell_type": "code",
      "source": [
        "# 예제1\n",
        "num = 1\n",
        "\n",
        "while num <=10:\n",
        "\tprint(\"num :\", num)\n",
        "\tnum += 1"
      ],
      "metadata": {
        "colab": {
          "base_uri": "https://localhost:8080/"
        },
        "id": "P4h82iDulrbC",
        "outputId": "28ba3824-a312-4066-ae38-e4c030c160d8"
      },
      "execution_count": null,
      "outputs": [
        {
          "output_type": "stream",
          "name": "stdout",
          "text": [
            "num : 1\n",
            "num : 2\n",
            "num : 3\n",
            "num : 4\n",
            "num : 5\n",
            "num : 6\n",
            "num : 7\n",
            "num : 8\n",
            "num : 9\n",
            "num : 10\n"
          ]
        }
      ]
    },
    {
      "cell_type": "code",
      "source": [
        "# 예제 2\n",
        "s = 1\n",
        "\n",
        "while s <= 9:\n",
        "\tprint(\"3 *\",s,'=', 3 * s)\n",
        "\ts += 1"
      ],
      "metadata": {
        "colab": {
          "base_uri": "https://localhost:8080/"
        },
        "id": "GMEx9OhAlwah",
        "outputId": "25c56d16-330f-4fee-ea8f-b9cfca37062c"
      },
      "execution_count": null,
      "outputs": [
        {
          "output_type": "stream",
          "name": "stdout",
          "text": [
            "3 * 1 = 3\n",
            "3 * 2 = 6\n",
            "3 * 3 = 9\n",
            "3 * 4 = 12\n",
            "3 * 5 = 15\n",
            "3 * 6 = 18\n",
            "3 * 7 = 21\n",
            "3 * 8 = 24\n",
            "3 * 9 = 27\n"
          ]
        }
      ]
    },
    {
      "cell_type": "code",
      "source": [
        "# + for문 추가\n",
        "for num in range(5,0,-1):\n",
        "\tprint(int(num) * \"*\")"
      ],
      "metadata": {
        "colab": {
          "base_uri": "https://localhost:8080/"
        },
        "id": "i5K3dCu2ngRB",
        "outputId": "12ba4e56-4ff1-4181-c233-9ac555918a04"
      },
      "execution_count": null,
      "outputs": [
        {
          "output_type": "stream",
          "name": "stdout",
          "text": [
            "*****\n",
            "****\n",
            "***\n",
            "**\n",
            "*\n"
          ]
        }
      ]
    },
    {
      "cell_type": "code",
      "source": [
        "# + for문 추가 2\n",
        "for num in range(1, 6):\n",
        "\tprint(int(num) * \"*\")"
      ],
      "metadata": {
        "colab": {
          "base_uri": "https://localhost:8080/"
        },
        "id": "ewFSco8AnnDI",
        "outputId": "d501dc91-4029-4594-b003-b1678b607c82"
      },
      "execution_count": null,
      "outputs": [
        {
          "output_type": "stream",
          "name": "stdout",
          "text": [
            "*\n",
            "**\n",
            "***\n",
            "****\n",
            "*****\n"
          ]
        }
      ]
    }
  ]
}