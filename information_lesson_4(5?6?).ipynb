{
  "nbformat": 4,
  "nbformat_minor": 0,
  "metadata": {
    "colab": {
      "provenance": [],
      "authorship_tag": "ABX9TyMhk8QfRBpRBmrslJ55SBTD",
      "include_colab_link": true
    },
    "kernelspec": {
      "name": "python3",
      "display_name": "Python 3"
    },
    "language_info": {
      "name": "python"
    }
  },
  "cells": [
    {
      "cell_type": "markdown",
      "metadata": {
        "id": "view-in-github",
        "colab_type": "text"
      },
      "source": [
        "<a href=\"https://colab.research.google.com/github/kaaaaaav/python-practice/blob/information/information_lesson_4(5%3F6%3F).ipynb\" target=\"_parent\"><img src=\"https://colab.research.google.com/assets/colab-badge.svg\" alt=\"Open In Colab\"/></a>"
      ]
    },
    {
      "cell_type": "code",
      "execution_count": 19,
      "metadata": {
        "colab": {
          "base_uri": "https://localhost:8080/"
        },
        "id": "TUqo1b4zVI2j",
        "outputId": "f70d90a0-2bf6-4c7f-9d60-bb73f381f9cd"
      },
      "outputs": [
        {
          "output_type": "stream",
          "name": "stdout",
          "text": [
            "2\n",
            "moongtaengi\n",
            "moongtaengi2\n",
            "64\n",
            "0\n",
            "싱숭생숭뮹양햐gsefggdhthjkljklfdsfsdㄹㄴㅇㄹㄴㅇ유야윧자량ㄴ차ㅓ얀더\n",
            "moongtaengi싱숭생숭뮹양햐gsefggdhthjkljklfdsfsdㄹㄴㅇㄹㄴㅇ유야윧자량ㄴ차ㅓ얀더moongtaengi\n",
            "moongtaengi 싱숭생숭뮹양햐gsefggdhthjkljklfdsfsdㄹㄴㅇㄹㄴㅇ유야윧자량ㄴ차ㅓ얀더 moongtaengi\n",
            "a\n"
          ]
        }
      ],
      "source": [
        "#변수 : a = ??? (등호 -> 오른쪽 자료를 왼쪽에 넣는다(수학과 같지 X!!!))\n",
        "#변수를 만들 때 처음 저장하는 값 : 초기값 ex)a = 10 -> a 변수의 초기값 = 10\n",
        "#파이썬에서는 변수를 만들기 위해 반드시 초기값을 저장해야 한다 (c언어는 아님)\n",
        "#초기값을 저장하는 작업을 '변수 정의를 한다'라고도 한다\n",
        "#변수를 쓰는 이유 : 귀찮아서\n",
        "#변수에 값을 저장하고 이를 다시 사용하기 위해서는 값이 아닌 변수명을 사용해야 한다 ex)a = 10, print(a))\n",
        "a = 2\n",
        "c = 32\n",
        "d = 0\n",
        "b = \"2\"\n",
        "altf4 = \"moongtaengi\"\n",
        "e = \"싱숭생숭뮹양햐gsefggdhthjkljklfdsfsdㄹㄴㅇㄹㄴㅇ유야윧자량ㄴ차ㅓ얀더\"\n",
        "print(a)\n",
        "print(altf4)\n",
        "print(altf4 + b)\n",
        "print(a*c)\n",
        "print(a*d//c)\n",
        "print(e)\n",
        "print(altf4 + e + altf4)\n",
        "print(altf4, e, altf4)\n",
        "#따옴표를 넣으면 변수명과 관계없이 따옴표 안의 문자가 나온다(문자로 취급)\n",
        "print(\"a\")"
      ]
    }
  ]
}