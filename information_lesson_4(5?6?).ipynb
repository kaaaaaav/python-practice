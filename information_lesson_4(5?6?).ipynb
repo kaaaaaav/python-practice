{
  "nbformat": 4,
  "nbformat_minor": 0,
  "metadata": {
    "colab": {
      "provenance": [],
      "authorship_tag": "ABX9TyObH2bcFxScwcy1LQf9+Gbo",
      "include_colab_link": true
    },
    "kernelspec": {
      "name": "python3",
      "display_name": "Python 3"
    },
    "language_info": {
      "name": "python"
    }
  },
  "cells": [
    {
      "cell_type": "markdown",
      "metadata": {
        "id": "view-in-github",
        "colab_type": "text"
      },
      "source": [
        "<a href=\"https://colab.research.google.com/github/kaaaaaav/python-practice/blob/information/information_lesson_4(5%3F6%3F).ipynb\" target=\"_parent\"><img src=\"https://colab.research.google.com/assets/colab-badge.svg\" alt=\"Open In Colab\"/></a>"
      ]
    },
    {
      "cell_type": "code",
      "execution_count": 19,
      "metadata": {
        "colab": {
          "base_uri": "https://localhost:8080/"
        },
        "id": "TUqo1b4zVI2j",
        "outputId": "f70d90a0-2bf6-4c7f-9d60-bb73f381f9cd"
      },
      "outputs": [
        {
          "output_type": "stream",
          "name": "stdout",
          "text": [
            "2\n",
            "moongtaengi\n",
            "moongtaengi2\n",
            "64\n",
            "0\n",
            "싱숭생숭뮹양햐gsefggdhthjkljklfdsfsdㄹㄴㅇㄹㄴㅇ유야윧자량ㄴ차ㅓ얀더\n",
            "moongtaengi싱숭생숭뮹양햐gsefggdhthjkljklfdsfsdㄹㄴㅇㄹㄴㅇ유야윧자량ㄴ차ㅓ얀더moongtaengi\n",
            "moongtaengi 싱숭생숭뮹양햐gsefggdhthjkljklfdsfsdㄹㄴㅇㄹㄴㅇ유야윧자량ㄴ차ㅓ얀더 moongtaengi\n",
            "a\n"
          ]
        }
      ],
      "source": [
        "# 변수 : a = ??? (등호 -> 오른쪽 자료를 왼쪽에 넣는다(수학과 같지 X!!!))\n",
        "# 변수를 만들 때 처음 저장하는 값 : 초기값 ex)a = 10 -> a 변수의 초기값 = 10\n",
        "# 파이썬에서는 변수를 만들기 위해 반드시 초기값을 저장해야 한다 (c언어는 아님)\n",
        "# 초기값을 저장하는 작업을 '변수 정의를 한다'라고도 한다\n",
        "# 변수를 쓰는 이유 : 귀찮아서\n",
        "# 변수에 값을 저장하고 이를 다시 사용하기 위해서는 값이 아닌 변수명을 사용해야 한다 ex)a = 10, print(a))\n",
        "a = 2\n",
        "c = 32\n",
        "d = 0\n",
        "b = \"2\"\n",
        "altf4 = \"moongtaengi\"\n",
        "e = \"싱숭생숭뮹양햐gsefggdhthjkljklfdsfsdㄹㄴㅇㄹㄴㅇ유야윧자량ㄴ차ㅓ얀더\"\n",
        "print(a)\n",
        "print(altf4)\n",
        "print(altf4 + b)\n",
        "print(a*c)\n",
        "print(a*d//c)\n",
        "print(e)\n",
        "print(altf4 + e + altf4)\n",
        "print(altf4, e, altf4)\n",
        "# 따옴표를 넣으면 변수명과 관계없이 따옴표 안의 문자가 나온다(문자로 취급)\n",
        "print(\"a\")"
      ]
    },
    {
      "cell_type": "markdown",
      "source": [
        "# **변수 이름 짓는 규칙 - 중요!!!!!!**\n",
        "  1. 숫자, 알파벳, 한글, _(언더스코어)를 사용할 수 있다 ex) number3, student, aa_b, 한구루\n",
        "  2. 변수의 첫 글자는 숫자로 시작할 수 없다 ex) 1st\n",
        "  3. 숫자로만 구성된 변수명은 만들 수 없다 ex) 2022\n",
        "  4. 공백과 연산자는 사용 불가하다 ex) blue red, blue+red, blue-red\n",
        "  5. 대문자와 소문자가 구분된다 ex) a = 10, A = 10 -> 서로 다른 함수\n",
        "  6. 파이썬에서 미리 예약된 이름은 사용할 수 없다 ex) print, if, input, for\n",
        "  7. (권장) 변수명은 이왕이면 이해하기 쉽게 의미 있는 이름으로 지으면 좋다"
      ],
      "metadata": {
        "id": "rf5W74D2cAxw"
      }
    },
    {
      "cell_type": "code",
      "source": [
        "# 00000000002 : 버그이므로 신경 ㄴㄴ\n",
        "p = 3.14\n",
        "res = 2 * p * 5\n",
        "print(\"원의 둘레 = \", res)"
      ],
      "metadata": {
        "colab": {
          "base_uri": "https://localhost:8080/"
        },
        "id": "TZ2L1dPXdkbX",
        "outputId": "0593a369-1169-4ca4-a8c7-53de2413bb48"
      },
      "execution_count": 24,
      "outputs": [
        {
          "output_type": "stream",
          "name": "stdout",
          "text": [
            "원의 둘레 =  31.400000000000002\n"
          ]
        }
      ]
    },
    {
      "cell_type": "code",
      "source": [
        "# 변수는 사용 목적 구분을 용이하게 한다\n",
        "p = 3.14\n",
        "r = 5\n",
        "res = int(2 * p * r)\n",
        "print(\"원의 둘레 (정수자리만) = \", res)"
      ],
      "metadata": {
        "colab": {
          "base_uri": "https://localhost:8080/"
        },
        "id": "GOkoj7nKeERP",
        "outputId": "9883cbf4-d2d3-415b-83bb-817278daf199"
      },
      "execution_count": 27,
      "outputs": [
        {
          "output_type": "stream",
          "name": "stdout",
          "text": [
            "원의 둘레 (정수자리만) =  31\n"
          ]
        }
      ]
    }
  ]
}