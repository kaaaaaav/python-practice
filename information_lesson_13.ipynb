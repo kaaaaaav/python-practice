{
  "nbformat": 4,
  "nbformat_minor": 0,
  "metadata": {
    "colab": {
      "provenance": [],
      "authorship_tag": "ABX9TyPXERzGF9tNSRX4qIYyX0SX",
      "include_colab_link": true
    },
    "kernelspec": {
      "name": "python3",
      "display_name": "Python 3"
    },
    "language_info": {
      "name": "python"
    }
  },
  "cells": [
    {
      "cell_type": "markdown",
      "metadata": {
        "id": "view-in-github",
        "colab_type": "text"
      },
      "source": [
        "<a href=\"https://colab.research.google.com/github/kaaaaaav/python-practice/blob/information/information_lesson_13.ipynb\" target=\"_parent\"><img src=\"https://colab.research.google.com/assets/colab-badge.svg\" alt=\"Open In Colab\"/></a>"
      ]
    },
    {
      "cell_type": "code",
      "execution_count": 5,
      "metadata": {
        "colab": {
          "base_uri": "https://localhost:8080/"
        },
        "id": "AAeE2HYRrmnP",
        "outputId": "14e8780e-d2f5-4fed-8d09-b88bb6d08956"
      },
      "outputs": [
        {
          "output_type": "stream",
          "name": "stdout",
          "text": [
            "3\n",
            "6\n",
            "9\n",
            "12\n",
            "15\n",
            "18\n",
            "21\n",
            "24\n",
            "27\n",
            "30\n",
            "33\n",
            "36\n",
            "39\n",
            "42\n",
            "45\n",
            "48\n",
            "51\n",
            "54\n",
            "57\n",
            "60\n",
            "63\n",
            "66\n",
            "69\n",
            "72\n",
            "75\n",
            "78\n",
            "81\n",
            "84\n",
            "87\n",
            "90\n",
            "93\n",
            "96\n",
            "99\n"
          ]
        }
      ],
      "source": [
        "# continue - 반복문에 continue 키워드를 사용하면 뒷코드 실행을 생략하고 다시 반복문의 처음으로 돌아간다\n",
        "for num in range(1,101):\n",
        "  if num % 3 != 0:\n",
        "    continue # 3의 배수가 아니면 생략한다\n",
        "  print(num)"
      ]
    },
    {
      "cell_type": "code",
      "source": [
        "# break = 반복문에서 break 키워드를 만나면 이후 실행을 중단하고\n",
        "num = 1 # 정수\n",
        "sum = 0 # 정수를 더한 합계\n",
        "\n",
        "while num < 11:\n",
        "  sum = sum + num\n",
        "  if sum >= 30:\n",
        "    print(\"num :\", num)\n",
        "    break\n",
        "  num = num + 1"
      ],
      "metadata": {
        "colab": {
          "base_uri": "https://localhost:8080/"
        },
        "id": "s7BASmjgyceR",
        "outputId": "e25ff449-8d74-448f-c04c-a2271633c19f"
      },
      "execution_count": 11,
      "outputs": [
        {
          "output_type": "stream",
          "name": "stdout",
          "text": [
            "num : 8\n"
          ]
        }
      ]
    }
  ]
}