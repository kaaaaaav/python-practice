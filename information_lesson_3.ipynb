{
  "nbformat": 4,
  "nbformat_minor": 0,
  "metadata": {
    "colab": {
      "provenance": [],
      "collapsed_sections": [],
      "authorship_tag": "ABX9TyN1FguPL7UmLvB8OA3PTBbY",
      "include_colab_link": true
    },
    "kernelspec": {
      "name": "python3",
      "display_name": "Python 3"
    },
    "language_info": {
      "name": "python"
    }
  },
  "cells": [
    {
      "cell_type": "markdown",
      "metadata": {
        "id": "view-in-github",
        "colab_type": "text"
      },
      "source": [
        "<a href=\"https://colab.research.google.com/github/kaaaaaav/python-practice/blob/information/information_lesson_3.ipynb\" target=\"_parent\"><img src=\"https://colab.research.google.com/assets/colab-badge.svg\" alt=\"Open In Colab\"/></a>"
      ]
    },
    {
      "cell_type": "code",
      "execution_count": 22,
      "metadata": {
        "id": "6X_EHFpIvVTG",
        "colab": {
          "base_uri": "https://localhost:8080/"
        },
        "outputId": "d6486d26-2816-4f0d-acf1-4b6b9553b59d"
      },
      "outputs": [
        {
          "output_type": "stream",
          "name": "stdout",
          "text": [
            "파이썬코딩\n"
          ]
        }
      ],
      "source": [
        "# 문자 + 문자 -> 붙여쓰기\n",
        "print(\"파이썬\"+\"코딩\")"
      ]
    },
    {
      "cell_type": "code",
      "source": [
        "# 문자 , 문자 -> 띄어쓰기\n",
        "print(\"파이썬\",\"코딩\")"
      ],
      "metadata": {
        "colab": {
          "base_uri": "https://localhost:8080/"
        },
        "id": "zeRUgNynwd_i",
        "outputId": "07e4eb34-5799-44cb-c5be-f554b42956fc"
      },
      "execution_count": 23,
      "outputs": [
        {
          "output_type": "stream",
          "name": "stdout",
          "text": [
            "파이썬 코딩\n"
          ]
        }
      ]
    },
    {
      "cell_type": "code",
      "source": [
        "# 15 23이 나오는 경우\n",
        "print(15, 23)\n",
        "print(\"15\",\"23\")"
      ],
      "metadata": {
        "colab": {
          "base_uri": "https://localhost:8080/"
        },
        "id": "6yW1FdEevwsh",
        "outputId": "d355b5af-d0b7-4b6a-dc37-e2a79b1162a2"
      },
      "execution_count": 4,
      "outputs": [
        {
          "output_type": "stream",
          "name": "stdout",
          "text": [
            "15 23\n"
          ]
        }
      ]
    },
    {
      "cell_type": "code",
      "source": [
        "# 1523이 나오는 경우\n",
        "print('15'+'23')"
      ],
      "metadata": {
        "colab": {
          "base_uri": "https://localhost:8080/"
        },
        "id": "W1zbOIE5wMrh",
        "outputId": "2de3f8e2-dd9e-4c07-dd91-c63fc01d984a"
      },
      "execution_count": 5,
      "outputs": [
        {
          "output_type": "stream",
          "name": "stdout",
          "text": [
            "1523\n"
          ]
        }
      ]
    },
    {
      "cell_type": "code",
      "source": [
        "# 문자와 숫자는 사칙연산이 불가능하다(곱셈 제외)\n",
        "print('파이썬' + \"2\")\n",
        "# 문자와 문자의 관계에서는 빼기를 할 수 없다\n",
        "print('파이썬' - \"2\")\n",
        "# 나누기도 불가능하다\n",
        "print('파이썬' / \"2\")"
      ],
      "metadata": {
        "colab": {
          "base_uri": "https://localhost:8080/",
          "height": 248
        },
        "id": "zls3t8ROxvgy",
        "outputId": "f8cb7fa8-d1fe-449d-e49e-14b2aa56b21a"
      },
      "execution_count": 14,
      "outputs": [
        {
          "output_type": "stream",
          "name": "stdout",
          "text": [
            "파이썬2\n",
            "파이썬2\n"
          ]
        },
        {
          "output_type": "error",
          "ename": "TypeError",
          "evalue": "ignored",
          "traceback": [
            "\u001b[0;31m---------------------------------------------------------------------------\u001b[0m",
            "\u001b[0;31mTypeError\u001b[0m                                 Traceback (most recent call last)",
            "\u001b[0;32m<ipython-input-14-8e379c540ce4>\u001b[0m in \u001b[0;36m<module>\u001b[0;34m\u001b[0m\n\u001b[1;32m      3\u001b[0m \u001b[0;31m# 문자와 문자의 관계에서는 빼기를 할 수 없다\u001b[0m\u001b[0;34m\u001b[0m\u001b[0;34m\u001b[0m\u001b[0;34m\u001b[0m\u001b[0m\n\u001b[1;32m      4\u001b[0m \u001b[0mprint\u001b[0m\u001b[0;34m(\u001b[0m\u001b[0;34m'파이썬'\u001b[0m \u001b[0;34m+\u001b[0m \u001b[0;34m\"2\"\u001b[0m\u001b[0;34m)\u001b[0m\u001b[0;34m\u001b[0m\u001b[0;34m\u001b[0m\u001b[0m\n\u001b[0;32m----> 5\u001b[0;31m \u001b[0mprint\u001b[0m\u001b[0;34m(\u001b[0m\u001b[0;34m'파이썬'\u001b[0m \u001b[0;34m/\u001b[0m \u001b[0;34m\"2\"\u001b[0m\u001b[0;34m)\u001b[0m\u001b[0;34m\u001b[0m\u001b[0;34m\u001b[0m\u001b[0m\n\u001b[0m",
            "\u001b[0;31mTypeError\u001b[0m: unsupported operand type(s) for /: 'str' and 'str'"
          ]
        }
      ]
    },
    {
      "cell_type": "code",
      "source": [
        "# 문자 곱하기 n = 문자 n개 반복(오류 X)\n",
        "print('파이썬'*2)"
      ],
      "metadata": {
        "colab": {
          "base_uri": "https://localhost:8080/"
        },
        "id": "lQsmbawjyiUr",
        "outputId": "a31a68a8-cf14-49c5-d7c8-71eee8a11d6c"
      },
      "execution_count": 13,
      "outputs": [
        {
          "output_type": "stream",
          "name": "stdout",
          "text": [
            "파이썬파이썬\n"
          ]
        }
      ]
    },
    {
      "cell_type": "code",
      "source": [
        "# 문자 곱하기 문자는 불가능하다\n",
        "print('파이썬'*\"3\")"
      ],
      "metadata": {
        "colab": {
          "base_uri": "https://localhost:8080/",
          "height": 174
        },
        "id": "5gcfBL4MzSTy",
        "outputId": "48135aea-a9ce-4d7d-fbb9-fef3d651e8e4"
      },
      "execution_count": 15,
      "outputs": [
        {
          "output_type": "error",
          "ename": "TypeError",
          "evalue": "ignored",
          "traceback": [
            "\u001b[0;31m---------------------------------------------------------------------------\u001b[0m",
            "\u001b[0;31mTypeError\u001b[0m                                 Traceback (most recent call last)",
            "\u001b[0;32m<ipython-input-15-e47b38b87a9a>\u001b[0m in \u001b[0;36m<module>\u001b[0;34m\u001b[0m\n\u001b[0;32m----> 1\u001b[0;31m \u001b[0mprint\u001b[0m\u001b[0;34m(\u001b[0m\u001b[0;34m'파이썬'\u001b[0m\u001b[0;34m*\u001b[0m\u001b[0;34m\"3\"\u001b[0m\u001b[0;34m)\u001b[0m\u001b[0;34m\u001b[0m\u001b[0;34m\u001b[0m\u001b[0m\n\u001b[0m",
            "\u001b[0;31mTypeError\u001b[0m: can't multiply sequence by non-int of type 'str'"
          ]
        }
      ]
    },
    {
      "cell_type": "code",
      "source": [
        "# 따옴표를 서로 다르게 구분하면 오류가 없다\n",
        "print('은덕쌤은 \"파이썬이 쉽다\"라고 말했다.')"
      ],
      "metadata": {
        "colab": {
          "base_uri": "https://localhost:8080/"
        },
        "id": "FvuKaAF_zjOq",
        "outputId": "6827b870-5422-48cc-855a-aa09806c289e"
      },
      "execution_count": 19,
      "outputs": [
        {
          "output_type": "stream",
          "name": "stdout",
          "text": [
            "은덕쌤은 \"파이썬이 쉽다\"라고 말했다.\n"
          ]
        }
      ]
    },
    {
      "cell_type": "code",
      "source": [
        "# 서로 같은 따옴표를 사용하면 안된다(예제에서 \"은덕쌤은\", \"라고 말했다\"만 문자로 인식된다)\n",
        "print('은덕쌤은 '파이썬이 쉽다'라고 말했다.')"
      ],
      "metadata": {
        "colab": {
          "base_uri": "https://localhost:8080/",
          "height": 137
        },
        "id": "SGIGnbV-z66c",
        "outputId": "d9f25492-60f8-482a-8954-d1090b09df92"
      },
      "execution_count": 20,
      "outputs": [
        {
          "output_type": "error",
          "ename": "SyntaxError",
          "evalue": "ignored",
          "traceback": [
            "\u001b[0;36m  File \u001b[0;32m\"<ipython-input-20-45f20b0ecf8d>\"\u001b[0;36m, line \u001b[0;32m2\u001b[0m\n\u001b[0;31m    print('은덕쌤은 '파이썬이 쉽다'라고 말했다.')\u001b[0m\n\u001b[0m                    ^\u001b[0m\n\u001b[0;31mSyntaxError\u001b[0m\u001b[0;31m:\u001b[0m invalid syntax\n"
          ]
        }
      ]
    },
    {
      "cell_type": "code",
      "source": [
        "# 같은 따옴표를 하나 더 써주면 정상적으로 출력된다(따옴표 출력은 안됨)\n",
        "print('은덕쌤은''파이썬이 쉽다''라고 말했다.')\n",
        "# 작은따옴표를 표시하기 위해 -> 문장을 묶을 때 큰따옴표를 넣는다\n",
        "# 큰따옴표를 표시하기 위해 -> 문장을 묶을 때 작은따옴표를 넣는다"
      ],
      "metadata": {
        "colab": {
          "base_uri": "https://localhost:8080/"
        },
        "id": "-BcB-j610p6y",
        "outputId": "0193ecdb-515f-4f83-c655-5b271c0ee2ae"
      },
      "execution_count": 24,
      "outputs": [
        {
          "output_type": "stream",
          "name": "stdout",
          "text": [
            "은덕쌤은파이썬이 쉽다라고 말했다.\n"
          ]
        }
      ]
    }
  ]
}