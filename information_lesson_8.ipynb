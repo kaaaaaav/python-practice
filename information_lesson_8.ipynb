{
  "nbformat": 4,
  "nbformat_minor": 0,
  "metadata": {
    "colab": {
      "provenance": [],
      "authorship_tag": "ABX9TyOFWnW0wlOT3FN3Cfva/R+8",
      "include_colab_link": true
    },
    "kernelspec": {
      "name": "python3",
      "display_name": "Python 3"
    },
    "language_info": {
      "name": "python"
    }
  },
  "cells": [
    {
      "cell_type": "markdown",
      "metadata": {
        "id": "view-in-github",
        "colab_type": "text"
      },
      "source": [
        "<a href=\"https://colab.research.google.com/github/kaaaaaav/python-practice/blob/information/information_lesson_8.ipynb\" target=\"_parent\"><img src=\"https://colab.research.google.com/assets/colab-badge.svg\" alt=\"Open In Colab\"/></a>"
      ]
    },
    {
      "cell_type": "code",
      "execution_count": null,
      "metadata": {
        "id": "KkhLseWulQf6"
      },
      "outputs": [],
      "source": [
        "#if문 연습\n",
        "a = 10 > -10 and 3.1 > 0 or -1 == 0\n",
        "print(a)\n",
        "temp = int(input(\"지금 온도? \"))\n",
        "b = temp <= 29 or temp > 16\n",
        "print(b)\n",
        "\n",
        "num = int(input(\"숫자를 입력하세요. \"))\n",
        "if num > 10:\n",
        "\tprint(\"숫자는 10보다 큽니다.\")\n",
        "\tprint(\"니가 쓴 숫자 :\", num)\n",
        "if num <= 10:\n",
        "\tprint(\"숫자는 10보다 작거나 같습니다.\")\n",
        "\tprint(\"니가 쓴 숫자 :\", num)\t\t\t\n",
        "\t\n",
        "numm = float(input(\"너의 키? : \"))\n",
        "if numm < 130:\n",
        "\tprint(\"너는 못탑니다ㅋ\")\n",
        "\tprint(\"니 키 :\", numm)\n",
        "if numm >= 130:\n",
        "\tprint(\"탈 수 있슴\")\n",
        "\tprint(\"니 키 :\", numm)"
      ]
    }
  ]
}