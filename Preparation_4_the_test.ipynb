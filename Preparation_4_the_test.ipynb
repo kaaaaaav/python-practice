{
  "nbformat": 4,
  "nbformat_minor": 0,
  "metadata": {
    "colab": {
      "provenance": [],
      "authorship_tag": "ABX9TyM0dFweSUtHyHGwZYaJznfo",
      "include_colab_link": true
    },
    "kernelspec": {
      "name": "python3",
      "display_name": "Python 3"
    },
    "language_info": {
      "name": "python"
    }
  },
  "cells": [
    {
      "cell_type": "markdown",
      "metadata": {
        "id": "view-in-github",
        "colab_type": "text"
      },
      "source": [
        "<a href=\"https://colab.research.google.com/github/kaaaaaav/python-practice/blob/information/Preparation_4_the_test.ipynb\" target=\"_parent\"><img src=\"https://colab.research.google.com/assets/colab-badge.svg\" alt=\"Open In Colab\"/></a>"
      ]
    },
    {
      "cell_type": "code",
      "source": [
        "#1번\n",
        "print('python')"
      ],
      "metadata": {
        "colab": {
          "base_uri": "https://localhost:8080/"
        },
        "id": "XBfkU0tG7Ojb",
        "outputId": "c336420d-9c6b-49f2-8eab-88fa4f8a8c00"
      },
      "execution_count": 3,
      "outputs": [
        {
          "output_type": "stream",
          "name": "stdout",
          "text": [
            "python\n"
          ]
        }
      ]
    },
    {
      "cell_type": "code",
      "source": [
        "#2번\n",
        "print('영훈고등학교')"
      ],
      "metadata": {
        "colab": {
          "base_uri": "https://localhost:8080/"
        },
        "id": "YZVHmPC47Pk6",
        "outputId": "4accfbfa-3080-445f-e832-5f91481d09c7"
      },
      "execution_count": 4,
      "outputs": [
        {
          "output_type": "stream",
          "name": "stdout",
          "text": [
            "영훈고등학교\n"
          ]
        }
      ]
    },
    {
      "cell_type": "code",
      "source": [
        "#3번\n",
        "print(5)"
      ],
      "metadata": {
        "colab": {
          "base_uri": "https://localhost:8080/"
        },
        "id": "cP-RFPjJ7Tdk",
        "outputId": "5280d56d-ed97-4dd3-90d2-50ab7f862a22"
      },
      "execution_count": 5,
      "outputs": [
        {
          "output_type": "stream",
          "name": "stdout",
          "text": [
            "5\n"
          ]
        }
      ]
    },
    {
      "cell_type": "code",
      "source": [
        "#4번\n",
        "print('정보'*3)"
      ],
      "metadata": {
        "colab": {
          "base_uri": "https://localhost:8080/"
        },
        "id": "wpZ0gE4f7b3O",
        "outputId": "ece77a3b-119a-4a8b-f3c8-b71c10328115"
      },
      "execution_count": 6,
      "outputs": [
        {
          "output_type": "stream",
          "name": "stdout",
          "text": [
            "정보정보정보\n"
          ]
        }
      ]
    },
    {
      "cell_type": "code",
      "source": [
        "#5번\n",
        "print('co ding')"
      ],
      "metadata": {
        "colab": {
          "base_uri": "https://localhost:8080/"
        },
        "id": "Gxk63HNt7cDh",
        "outputId": "0b6a551f-f764-4f2d-8a7d-598e250a5f66"
      },
      "execution_count": 7,
      "outputs": [
        {
          "output_type": "stream",
          "name": "stdout",
          "text": [
            "co ding\n"
          ]
        }
      ]
    },
    {
      "cell_type": "code",
      "source": [
        "#6번\n",
        "print('2+7-3')"
      ],
      "metadata": {
        "colab": {
          "base_uri": "https://localhost:8080/"
        },
        "id": "-3zlGBcX7cGx",
        "outputId": "a2aa89c8-8418-4b5a-c6ca-0ab13fc41295"
      },
      "execution_count": 8,
      "outputs": [
        {
          "output_type": "stream",
          "name": "stdout",
          "text": [
            "2+7-3\n"
          ]
        }
      ]
    },
    {
      "cell_type": "code",
      "source": [
        "#7번\n",
        "print('안녕'*2)\n",
        "print('hello')"
      ],
      "metadata": {
        "colab": {
          "base_uri": "https://localhost:8080/"
        },
        "id": "p7pRCPpz7cJ4",
        "outputId": "acc797ca-7017-45a5-df16-1578f190cc89"
      },
      "execution_count": 9,
      "outputs": [
        {
          "output_type": "stream",
          "name": "stdout",
          "text": [
            "안녕안녕\n",
            "hello\n"
          ]
        }
      ]
    },
    {
      "cell_type": "code",
      "source": [
        "#8번\n",
        "print('5+5'*2)\n",
        "print(5+5)"
      ],
      "metadata": {
        "colab": {
          "base_uri": "https://localhost:8080/"
        },
        "id": "zBB1HCvk7cME",
        "outputId": "1f586b93-2aab-40f2-e4ee-77959a711f5e"
      },
      "execution_count": 10,
      "outputs": [
        {
          "output_type": "stream",
          "name": "stdout",
          "text": [
            "5+55+5\n",
            "10\n"
          ]
        }
      ]
    },
    {
      "cell_type": "code",
      "source": [
        "#9번\n",
        "print(333)\n",
        "print('10'*3)"
      ],
      "metadata": {
        "colab": {
          "base_uri": "https://localhost:8080/"
        },
        "id": "cuqDD8cb7cO0",
        "outputId": "e0b85b21-4681-416a-a196-0260a36f7fd8"
      },
      "execution_count": 11,
      "outputs": [
        {
          "output_type": "stream",
          "name": "stdout",
          "text": [
            "333\n",
            "101010\n"
          ]
        }
      ]
    },
    {
      "cell_type": "code",
      "source": [
        "#10번\n",
        "a=7\n",
        "print(a)"
      ],
      "metadata": {
        "colab": {
          "base_uri": "https://localhost:8080/"
        },
        "id": "XlKZkUj87cTh",
        "outputId": "6535c09e-829c-4a06-80e1-eb738ef459f3"
      },
      "execution_count": 12,
      "outputs": [
        {
          "output_type": "stream",
          "name": "stdout",
          "text": [
            "7\n"
          ]
        }
      ]
    },
    {
      "cell_type": "code",
      "source": [
        "#11번\n",
        "print('1+1')\n",
        "print(111*2)"
      ],
      "metadata": {
        "colab": {
          "base_uri": "https://localhost:8080/"
        },
        "id": "r-udWM8x7cWI",
        "outputId": "fbc14cc8-fe32-4154-aedd-51d7c1210dc0"
      },
      "execution_count": 13,
      "outputs": [
        {
          "output_type": "stream",
          "name": "stdout",
          "text": [
            "1+1\n",
            "222\n"
          ]
        }
      ]
    },
    {
      "cell_type": "code",
      "source": [
        "#12번\n",
        "b=10\n",
        "print('b')"
      ],
      "metadata": {
        "id": "Gep3nlpC8IOy",
        "outputId": "6c825a75-faa9-4790-bed4-085d20028da2",
        "colab": {
          "base_uri": "https://localhost:8080/"
        }
      },
      "execution_count": 14,
      "outputs": [
        {
          "output_type": "stream",
          "name": "stdout",
          "text": [
            "b\n"
          ]
        }
      ]
    },
    {
      "cell_type": "code",
      "source": [
        "#13번\n",
        "n1 = input( ) #15입력\n",
        "print(n1)"
      ],
      "metadata": {
        "id": "O8IeM2LS8Pd2",
        "outputId": "58acd6ab-7619-46e8-fa6c-3d5a4d0fd1f7",
        "colab": {
          "base_uri": "https://localhost:8080/"
        }
      },
      "execution_count": 32,
      "outputs": [
        {
          "output_type": "stream",
          "name": "stdout",
          "text": [
            "15\n",
            "15\n"
          ]
        }
      ]
    },
    {
      "cell_type": "code",
      "source": [
        "#14번\n",
        "word = input( ) #파이썬입력\n",
        "print(word)"
      ],
      "metadata": {
        "id": "4qzsjXg_8PgS",
        "outputId": "b4202d85-d125-4607-fc9a-e388c84460cc",
        "colab": {
          "base_uri": "https://localhost:8080/"
        }
      },
      "execution_count": 31,
      "outputs": [
        {
          "output_type": "stream",
          "name": "stdout",
          "text": [
            "파이썬\n",
            "파이썬\n"
          ]
        }
      ]
    },
    {
      "cell_type": "code",
      "source": [
        "#15번\n",
        "a = 10\n",
        "b = 20\n",
        "print(a+b)"
      ],
      "metadata": {
        "id": "psGNStIo8Pi_",
        "outputId": "c70cf671-60aa-47dd-b893-98ea74e4123c",
        "colab": {
          "base_uri": "https://localhost:8080/"
        }
      },
      "execution_count": 30,
      "outputs": [
        {
          "output_type": "stream",
          "name": "stdout",
          "text": [
            "30\n"
          ]
        }
      ]
    },
    {
      "cell_type": "code",
      "source": [
        "#16번\n",
        "r = input( ) #P입력\n",
        "print('R')"
      ],
      "metadata": {
        "id": "3en40BL38PlQ",
        "outputId": "ab7d36e5-43e5-41a0-8442-907d458d4ea8",
        "colab": {
          "base_uri": "https://localhost:8080/"
        }
      },
      "execution_count": 29,
      "outputs": [
        {
          "output_type": "stream",
          "name": "stdout",
          "text": [
            "P\n",
            "R\n"
          ]
        }
      ]
    },
    {
      "cell_type": "code",
      "source": [
        "#17번\n",
        "p = input( ) #123입력\n",
        "print(p)"
      ],
      "metadata": {
        "id": "xz73CxkJ8PpM",
        "outputId": "a15702e4-081a-4105-d2b4-82f81f347f9b",
        "colab": {
          "base_uri": "https://localhost:8080/"
        }
      },
      "execution_count": 28,
      "outputs": [
        {
          "output_type": "stream",
          "name": "stdout",
          "text": [
            "123\n",
            "123\n"
          ]
        }
      ]
    },
    {
      "cell_type": "code",
      "source": [
        "#18번\n",
        "a1 = input( ) #50입력\n",
        "a2 = input( ) #05입력\n",
        "print(a1 + a2)"
      ],
      "metadata": {
        "id": "8ruY_Vfd8Prv",
        "outputId": "2df3734f-5fb4-4486-cf01-103125f516a9",
        "colab": {
          "base_uri": "https://localhost:8080/"
        }
      },
      "execution_count": 26,
      "outputs": [
        {
          "output_type": "stream",
          "name": "stdout",
          "text": [
            "50\n",
            "05\n",
            "5005\n"
          ]
        }
      ]
    },
    {
      "cell_type": "code",
      "source": [
        "#19번\n",
        "k = 30\n",
        "k = input( ) #40입력\n",
        "print(k)"
      ],
      "metadata": {
        "id": "x8wLrDLF8Pua",
        "outputId": "d1da22eb-cbef-458a-fa01-e07f366d205d",
        "colab": {
          "base_uri": "https://localhost:8080/"
        }
      },
      "execution_count": 25,
      "outputs": [
        {
          "output_type": "stream",
          "name": "stdout",
          "text": [
            "40\n",
            "40\n"
          ]
        }
      ]
    },
    {
      "cell_type": "code",
      "source": [
        "#20번\n",
        "h1 = input( ) #치킨입력\n",
        "h2 = input( ) #pizza입력\n",
        "print(h1+'h2')"
      ],
      "metadata": {
        "id": "OMr7pBrL8Pwt",
        "outputId": "a32b8756-4405-4382-d765-7f19874a3c6a",
        "colab": {
          "base_uri": "https://localhost:8080/"
        }
      },
      "execution_count": 24,
      "outputs": [
        {
          "output_type": "stream",
          "name": "stdout",
          "text": [
            "치킨\n",
            "pizza\n",
            "치킨h2\n"
          ]
        }
      ]
    },
    {
      "cell_type": "code",
      "source": [
        "#21번\n",
        "page = input( )+'p' #30입력\n",
        "print(page)"
      ],
      "metadata": {
        "id": "4KYdkA7Z8Pzc",
        "outputId": "a2a8a0fc-aede-466f-da0f-c0847185b51f",
        "colab": {
          "base_uri": "https://localhost:8080/"
        }
      },
      "execution_count": 33,
      "outputs": [
        {
          "output_type": "stream",
          "name": "stdout",
          "text": [
            "30\n",
            "30p\n"
          ]
        }
      ]
    },
    {
      "cell_type": "code",
      "source": [
        "#22번\n",
        "num = int(input( )) #55입력\n",
        "print(num-20)"
      ],
      "metadata": {
        "id": "79m6GCex8P12",
        "outputId": "f8b9c30c-f46b-4579-91c3-89c5689d21f8",
        "colab": {
          "base_uri": "https://localhost:8080/"
        }
      },
      "execution_count": 23,
      "outputs": [
        {
          "output_type": "stream",
          "name": "stdout",
          "text": [
            "55\n",
            "35\n"
          ]
        }
      ]
    },
    {
      "cell_type": "code",
      "source": [
        "#23번\n",
        "a = int(input( ))+10 #3입력\n",
        "print(a)"
      ],
      "metadata": {
        "id": "jjbIEO1o82bc",
        "outputId": "585c0aec-98da-4b92-9622-35b7d47c2bf6",
        "colab": {
          "base_uri": "https://localhost:8080/"
        }
      },
      "execution_count": 22,
      "outputs": [
        {
          "output_type": "stream",
          "name": "stdout",
          "text": [
            "3\n",
            "13\n"
          ]
        }
      ]
    },
    {
      "cell_type": "code",
      "source": [
        "#24번\n",
        "print('hello','computer')"
      ],
      "metadata": {
        "id": "vyZ5sYKC82iN",
        "outputId": "92649b32-9ae9-4789-f5c0-429240bc95ac",
        "colab": {
          "base_uri": "https://localhost:8080/"
        }
      },
      "execution_count": 15,
      "outputs": [
        {
          "output_type": "stream",
          "name": "stdout",
          "text": [
            "hello computer\n"
          ]
        }
      ]
    },
    {
      "cell_type": "code",
      "source": [
        "#25번\n",
        "print('안녕'+'파이썬')"
      ],
      "metadata": {
        "id": "1uzFGgt38ITe",
        "outputId": "539e9750-8306-45f4-c803-f94ef51ca5d6",
        "colab": {
          "base_uri": "https://localhost:8080/"
        }
      },
      "execution_count": 16,
      "outputs": [
        {
          "output_type": "stream",
          "name": "stdout",
          "text": [
            "안녕파이썬\n"
          ]
        }
      ]
    },
    {
      "cell_type": "code",
      "source": [
        "#26번\n",
        "print('나는', 2 ,'학년')"
      ],
      "metadata": {
        "id": "LwEsdCzj8IYM",
        "outputId": "2b28172c-0537-4769-e439-f3caa5af057f",
        "colab": {
          "base_uri": "https://localhost:8080/"
        }
      },
      "execution_count": 17,
      "outputs": [
        {
          "output_type": "stream",
          "name": "stdout",
          "text": [
            "나는 2 학년\n"
          ]
        }
      ]
    },
    {
      "cell_type": "code",
      "source": [
        "#27번\n",
        "print(float(5))"
      ],
      "metadata": {
        "id": "gJlK9cEG8Iaq",
        "outputId": "418ee650-de59-4b5f-b6c9-dbd825b9324a",
        "colab": {
          "base_uri": "https://localhost:8080/"
        }
      },
      "execution_count": 18,
      "outputs": [
        {
          "output_type": "stream",
          "name": "stdout",
          "text": [
            "5.0\n"
          ]
        }
      ]
    },
    {
      "cell_type": "code",
      "source": [
        "#28번\n",
        "print(int(10.5)+20)"
      ],
      "metadata": {
        "id": "yWvkJ7Gv8IdX",
        "outputId": "e4ecb23a-b6fa-40c4-de25-5ba2e0f2f170",
        "colab": {
          "base_uri": "https://localhost:8080/"
        }
      },
      "execution_count": 19,
      "outputs": [
        {
          "output_type": "stream",
          "name": "stdout",
          "text": [
            "30\n"
          ]
        }
      ]
    },
    {
      "cell_type": "code",
      "source": [
        "#29번\n",
        "print(str(10)+'10')"
      ],
      "metadata": {
        "colab": {
          "base_uri": "https://localhost:8080/"
        },
        "id": "ISBEdEHv7cYw",
        "outputId": "82f08e19-b21a-45de-b50a-d3817b8372fc"
      },
      "execution_count": 20,
      "outputs": [
        {
          "output_type": "stream",
          "name": "stdout",
          "text": [
            "1010\n"
          ]
        }
      ]
    },
    {
      "cell_type": "code",
      "source": [
        "#30번\n",
        "x = 100\n",
        "x= 200\n",
        "print(x)"
      ],
      "metadata": {
        "colab": {
          "base_uri": "https://localhost:8080/"
        },
        "id": "RaSyr4Ha7cxe",
        "outputId": "1d7e002a-dab9-45ad-b70c-79d2ea6ba5c2"
      },
      "execution_count": 21,
      "outputs": [
        {
          "output_type": "stream",
          "name": "stdout",
          "text": [
            "200\n"
          ]
        }
      ]
    }
  ]
}