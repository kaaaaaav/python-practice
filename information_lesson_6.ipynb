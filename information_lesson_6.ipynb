{
  "nbformat": 4,
  "nbformat_minor": 0,
  "metadata": {
    "colab": {
      "provenance": [],
      "authorship_tag": "ABX9TyPDzTonY4EaHgHZT+dAW36c",
      "include_colab_link": true
    },
    "kernelspec": {
      "name": "python3",
      "display_name": "Python 3"
    },
    "language_info": {
      "name": "python"
    }
  },
  "cells": [
    {
      "cell_type": "markdown",
      "metadata": {
        "id": "view-in-github",
        "colab_type": "text"
      },
      "source": [
        "<a href=\"https://colab.research.google.com/github/kaaaaaav/python-practice/blob/information/information_lesson_6.ipynb\" target=\"_parent\"><img src=\"https://colab.research.google.com/assets/colab-badge.svg\" alt=\"Open In Colab\"/></a>"
      ]
    },
    {
      "cell_type": "code",
      "execution_count": 4,
      "metadata": {
        "colab": {
          "base_uri": "https://localhost:8080/"
        },
        "id": "3w66MNa0aLhH",
        "outputId": "72c88917-c7c7-4e06-afc1-6c3b3c2b3ae5"
      },
      "outputs": [
        {
          "output_type": "stream",
          "name": "stdout",
          "text": [
            "aa\n"
          ]
        }
      ],
      "source": [
        "# 주석 : 컴퓨터가 아닌 '사람'에게 하는 말\n",
        "# 파이썬에서는 주석이 시작되는 맨 앞에 # 기호를 붙인다.\n",
        "# 기호는 줄 바꿈을 하면 또 적어야 하는 불편함이 있다.\n",
        "# 줄 바꿈을 해도 계속 주석을 적을 수 있는 방법이 있다.\n",
        "# 큰따옴표 3개(\"\"\") 또는 작은따옴표 3개(''')로 주석을 감싸주면 된다. (코랩에서는 잘 안먹힘)\n",
        "print(\"aa\")"
      ]
    },
    {
      "cell_type": "code",
      "source": [
        "\\#사용 예시\n",
        "\n",
        "#원주율\n",
        "p = 3.14\n",
        "#원의 둘레\n",
        "r = float(input(\"원의 둘레? \"))\n",
        "#원의 넓이 공식\n",
        "res=2 * p * r\n",
        "#결과\n",
        "print(res)"
      ],
      "metadata": {
        "colab": {
          "base_uri": "https://localhost:8080/"
        },
        "id": "E1VThXLzbP59",
        "outputId": "f462ecdf-e3d0-412e-9c3b-93650ef81dc0"
      },
      "execution_count": 16,
      "outputs": [
        {
          "output_type": "stream",
          "name": "stdout",
          "text": [
            "원의 둘레? 238823849238423\n",
            "1499813773217296.5\n"
          ]
        }
      ]
    },
    {
      "cell_type": "code",
      "source": [
        "\"\"\"\n",
        "사용 예시 2\n",
        "ㅋㅋㅋㅋㅋㅋㅋㅋㅋ\n",
        "개꿀잼\n",
        "ㅖㅏ\n",
        "컴이 못읽음\n",
        "\"\"\"\n",
        "\n",
        "'''\n",
        "뿌에뿌에뿌에\n",
        "포에포에포에\n",
        "후에후에후에\n",
        "'''\n",
        "\n",
        "print(\"rta\")"
      ],
      "metadata": {
        "colab": {
          "base_uri": "https://localhost:8080/"
        },
        "id": "WkWavqQybXzL",
        "outputId": "ea3898a0-9f8d-41f3-c9cd-933656eaccbd"
      },
      "execution_count": 14,
      "outputs": [
        {
          "output_type": "stream",
          "name": "stdout",
          "text": [
            "rta\n"
          ]
        }
      ]
    }
  ]
}