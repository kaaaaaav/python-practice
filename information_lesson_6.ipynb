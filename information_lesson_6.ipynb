{
  "nbformat": 4,
  "nbformat_minor": 0,
  "metadata": {
    "colab": {
      "provenance": [],
      "authorship_tag": "ABX9TyN8f/svwXffe0oMnZAD7ZQt",
      "include_colab_link": true
    },
    "kernelspec": {
      "name": "python3",
      "display_name": "Python 3"
    },
    "language_info": {
      "name": "python"
    }
  },
  "cells": [
    {
      "cell_type": "markdown",
      "metadata": {
        "id": "view-in-github",
        "colab_type": "text"
      },
      "source": [
        "<a href=\"https://colab.research.google.com/github/kaaaaaav/python-practice/blob/information/information_lesson_6.ipynb\" target=\"_parent\"><img src=\"https://colab.research.google.com/assets/colab-badge.svg\" alt=\"Open In Colab\"/></a>"
      ]
    },
    {
      "cell_type": "code",
      "execution_count": 4,
      "metadata": {
        "colab": {
          "base_uri": "https://localhost:8080/"
        },
        "id": "3w66MNa0aLhH",
        "outputId": "72c88917-c7c7-4e06-afc1-6c3b3c2b3ae5"
      },
      "outputs": [
        {
          "output_type": "stream",
          "name": "stdout",
          "text": [
            "aa\n"
          ]
        }
      ],
      "source": [
        "# 주석 : 컴퓨터가 아닌 '사람'에게 하는 말\n",
        "# 파이썬에서는 주석이 시작되는 맨 앞에 # 기호를 붙인다.\n",
        "# 기호는 줄 바꿈을 하면 또 적어야 하는 불편함이 있다.\n",
        "# 줄 바꿈을 해도 계속 주석을 적을 수 있는 방법이 있다.\n",
        "# 큰따옴표 3개(\"\"\") 또는 작은따옴표 3개(''')로 주석을 감싸주면 된다. (코랩에서는 잘 안먹힘)\n",
        "print(\"aa\")"
      ]
    },
    {
      "cell_type": "code",
      "source": [
        "#사용 예시\n",
        "\n",
        "#원주율\n",
        "p = 3.14\n",
        "#원의 둘레\n",
        "r = float(input(\"원의 둘레? \"))\n",
        "#원의 넓이 공식\n",
        "res=2 * p * r\n",
        "#결과\n",
        "print(res)"
      ],
      "metadata": {
        "colab": {
          "base_uri": "https://localhost:8080/"
        },
        "id": "E1VThXLzbP59",
        "outputId": "f462ecdf-e3d0-412e-9c3b-93650ef81dc0"
      },
      "execution_count": 16,
      "outputs": [
        {
          "output_type": "stream",
          "name": "stdout",
          "text": [
            "원의 둘레? 238823849238423\n",
            "1499813773217296.5\n"
          ]
        }
      ]
    },
    {
      "cell_type": "code",
      "source": [
        "\"\"\"\n",
        "사용 예시 2\n",
        "ㅋㅋㅋㅋㅋㅋㅋㅋㅋ\n",
        "개꿀잼\n",
        "ㅖㅏ\n",
        "컴이 못읽음\n",
        "\"\"\"\n",
        "\n",
        "'''\n",
        "꿈속에 보았던 신비한 세계 모두가 오고싶던곳\n",
        "모험과 환상이가득한 이곳 사랑의 낙원이에요\n",
        "꿈속에 보았던 신비한 세계 모두가오고싶던곳\n",
        "모험과 환상이가득한 이곳 사랑의 낙원이에요\n",
        "로티와로리가 함께어울려 즐거이 노래불러요\n",
        "누구나 만나면 친구가 되는 사랑의 낙원이에요\n",
        "세상에서 가장 아름다운 곳\n",
        "마주치는 얼굴마다 반가운 이곳\n",
        "꿈의나라 신비의 세계 사랑에 롯데월드\n",
        "꿈의나라 모험의 세계 여기는 롯데월드\n",
        "'''\n",
        "a = 4\n",
        "print(a)\n",
        "a = float(a)\n",
        "print(\"rta\")\n",
        "print(a)\n",
        "print(5*3)"
      ],
      "metadata": {
        "colab": {
          "base_uri": "https://localhost:8080/"
        },
        "id": "WkWavqQybXzL",
        "outputId": "0dc1c8e7-b789-4728-9945-e5edce059d67"
      },
      "execution_count": 22,
      "outputs": [
        {
          "output_type": "stream",
          "name": "stdout",
          "text": [
            "4\n",
            "rta\n",
            "4.0\n",
            "15\n"
          ]
        }
      ]
    },
    {
      "cell_type": "code",
      "source": [
        "# 변수 줄이기 -> 중요!!!\n",
        "# a = a + b -> a += b\n",
        "# a = a - b -> a -= b\n",
        "# a = a * b -> a *= b\n",
        "# a = a / b -> a /= b\n",
        "\n",
        "# 예시 1\n",
        "a = int(input())\n",
        "b = 4\n",
        "a += b\n",
        "print(a)\n",
        "\n",
        "# 예시 2\n",
        "c = float(input())\n",
        "d = float(input())\n",
        "d *= c\n",
        "print(d)\n",
        "# 변수에 연산식 넣기 가능 ex) a = a * b * 4\n",
        "\n",
        "#변수는 마지막에 저장된 값만 기억한다 - 중요!!\n",
        "\n",
        "#예시\n",
        "abc = 10\n",
        "abc += 34\n",
        "print(abc)\n",
        "\n",
        "# 만들지 않은 변수를 사용하면 NameError가 발생한다\n",
        "\n",
        "# 예시\n",
        "atx = 384\n",
        "print(axt)"
      ],
      "metadata": {
        "colab": {
          "base_uri": "https://localhost:8080/",
          "height": 321
        },
        "id": "8MQ8wDkUe6Xq",
        "outputId": "a8b4f3ea-a9ba-4108-bdc5-64260bd5a3c0"
      },
      "execution_count": 28,
      "outputs": [
        {
          "output_type": "stream",
          "name": "stdout",
          "text": [
            "7\n",
            "11\n",
            "2\n",
            "5\n",
            "10.0\n",
            "44\n"
          ]
        },
        {
          "output_type": "error",
          "ename": "NameError",
          "evalue": "ignored",
          "traceback": [
            "\u001b[0;31m---------------------------------------------------------------------------\u001b[0m",
            "\u001b[0;31mNameError\u001b[0m                                 Traceback (most recent call last)",
            "\u001b[0;32m<ipython-input-28-74fdd620a53c>\u001b[0m in \u001b[0;36m<module>\u001b[0;34m\u001b[0m\n\u001b[1;32m     29\u001b[0m \u001b[0;31m# 예시\u001b[0m\u001b[0;34m\u001b[0m\u001b[0;34m\u001b[0m\u001b[0;34m\u001b[0m\u001b[0m\n\u001b[1;32m     30\u001b[0m \u001b[0matx\u001b[0m \u001b[0;34m=\u001b[0m \u001b[0;36m384\u001b[0m\u001b[0;34m\u001b[0m\u001b[0;34m\u001b[0m\u001b[0m\n\u001b[0;32m---> 31\u001b[0;31m \u001b[0mprint\u001b[0m\u001b[0;34m(\u001b[0m\u001b[0maxt\u001b[0m\u001b[0;34m)\u001b[0m\u001b[0;34m\u001b[0m\u001b[0;34m\u001b[0m\u001b[0m\n\u001b[0m",
            "\u001b[0;31mNameError\u001b[0m: name 'axt' is not defined"
          ]
        }
      ]
    }
  ]
}