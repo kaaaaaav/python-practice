{
  "nbformat": 4,
  "nbformat_minor": 0,
  "metadata": {
    "colab": {
      "provenance": [],
      "authorship_tag": "ABX9TyNJcWjhZGG/djYJ1c9Ueh5t",
      "include_colab_link": true
    },
    "kernelspec": {
      "name": "python3",
      "display_name": "Python 3"
    },
    "language_info": {
      "name": "python"
    }
  },
  "cells": [
    {
      "cell_type": "markdown",
      "metadata": {
        "id": "view-in-github",
        "colab_type": "text"
      },
      "source": [
        "<a href=\"https://colab.research.google.com/github/kaaaaaav/python-practice/blob/information/information_lesson_11.ipynb\" target=\"_parent\"><img src=\"https://colab.research.google.com/assets/colab-badge.svg\" alt=\"Open In Colab\"/></a>"
      ]
    },
    {
      "cell_type": "code",
      "execution_count": null,
      "metadata": {
        "colab": {
          "base_uri": "https://localhost:8080/"
        },
        "id": "rdnnIiODor_f",
        "outputId": "56ff73dd-1892-4a3f-dc36-54e98e6f67e2"
      },
      "outputs": [
        {
          "output_type": "stream",
          "name": "stdout",
          "text": [
            "1\n",
            "2\n",
            "3\n",
            "4\n",
            "5\n",
            "6\n",
            "7\n",
            "8\n",
            "9\n",
            "10\n"
          ]
        }
      ],
      "source": [
        "# for문 : 지정된 횟수에 따라 반복\n",
        "# for : ~하는 동안\n",
        "# in : 안에 있다, 속한다\n",
        "# 예시\n",
        "for i in range(1,11,1): # range(n 이상, m 미만, o씩 증가)\n",
        "  print(i)"
      ]
    },
    {
      "cell_type": "code",
      "source": [
        "sum = 0\n",
        "for num in range(1, 11, 1):\n",
        "\tsum = sum + num\n",
        "print('1부터 10까지 정수의 합 =', sum)"
      ],
      "metadata": {
        "colab": {
          "base_uri": "https://localhost:8080/"
        },
        "id": "GUWTIA1dvySd",
        "outputId": "959ebc10-762e-4dd9-da20-6cb21af2fa0c"
      },
      "execution_count": null,
      "outputs": [
        {
          "output_type": "stream",
          "name": "stdout",
          "text": [
            "1부터 10까지 정수의 합 = 55\n"
          ]
        }
      ]
    },
    {
      "cell_type": "code",
      "source": [
        "for num in range(1, 101, 1):\n",
        "\tprint('정수 =', num)\n",
        "\tif num % 2 == 0:\n",
        "\t\tprint('2배수')"
      ],
      "metadata": {
        "colab": {
          "base_uri": "https://localhost:8080/"
        },
        "id": "pWuzA9-_v00U",
        "outputId": "b5432488-4cd3-4547-91a7-460481017b03"
      },
      "execution_count": null,
      "outputs": [
        {
          "output_type": "stream",
          "name": "stdout",
          "text": [
            "정수 = 1\n",
            "정수 = 2\n",
            "2배수\n",
            "정수 = 3\n",
            "정수 = 4\n",
            "2배수\n",
            "정수 = 5\n",
            "정수 = 6\n",
            "2배수\n",
            "정수 = 7\n",
            "정수 = 8\n",
            "2배수\n",
            "정수 = 9\n",
            "정수 = 10\n",
            "2배수\n",
            "정수 = 11\n",
            "정수 = 12\n",
            "2배수\n",
            "정수 = 13\n",
            "정수 = 14\n",
            "2배수\n",
            "정수 = 15\n",
            "정수 = 16\n",
            "2배수\n",
            "정수 = 17\n",
            "정수 = 18\n",
            "2배수\n",
            "정수 = 19\n",
            "정수 = 20\n",
            "2배수\n",
            "정수 = 21\n",
            "정수 = 22\n",
            "2배수\n",
            "정수 = 23\n",
            "정수 = 24\n",
            "2배수\n",
            "정수 = 25\n",
            "정수 = 26\n",
            "2배수\n",
            "정수 = 27\n",
            "정수 = 28\n",
            "2배수\n",
            "정수 = 29\n",
            "정수 = 30\n",
            "2배수\n",
            "정수 = 31\n",
            "정수 = 32\n",
            "2배수\n",
            "정수 = 33\n",
            "정수 = 34\n",
            "2배수\n",
            "정수 = 35\n",
            "정수 = 36\n",
            "2배수\n",
            "정수 = 37\n",
            "정수 = 38\n",
            "2배수\n",
            "정수 = 39\n",
            "정수 = 40\n",
            "2배수\n",
            "정수 = 41\n",
            "정수 = 42\n",
            "2배수\n",
            "정수 = 43\n",
            "정수 = 44\n",
            "2배수\n",
            "정수 = 45\n",
            "정수 = 46\n",
            "2배수\n",
            "정수 = 47\n",
            "정수 = 48\n",
            "2배수\n",
            "정수 = 49\n",
            "정수 = 50\n",
            "2배수\n",
            "정수 = 51\n",
            "정수 = 52\n",
            "2배수\n",
            "정수 = 53\n",
            "정수 = 54\n",
            "2배수\n",
            "정수 = 55\n",
            "정수 = 56\n",
            "2배수\n",
            "정수 = 57\n",
            "정수 = 58\n",
            "2배수\n",
            "정수 = 59\n",
            "정수 = 60\n",
            "2배수\n",
            "정수 = 61\n",
            "정수 = 62\n",
            "2배수\n",
            "정수 = 63\n",
            "정수 = 64\n",
            "2배수\n",
            "정수 = 65\n",
            "정수 = 66\n",
            "2배수\n",
            "정수 = 67\n",
            "정수 = 68\n",
            "2배수\n",
            "정수 = 69\n",
            "정수 = 70\n",
            "2배수\n",
            "정수 = 71\n",
            "정수 = 72\n",
            "2배수\n",
            "정수 = 73\n",
            "정수 = 74\n",
            "2배수\n",
            "정수 = 75\n",
            "정수 = 76\n",
            "2배수\n",
            "정수 = 77\n",
            "정수 = 78\n",
            "2배수\n",
            "정수 = 79\n",
            "정수 = 80\n",
            "2배수\n",
            "정수 = 81\n",
            "정수 = 82\n",
            "2배수\n",
            "정수 = 83\n",
            "정수 = 84\n",
            "2배수\n",
            "정수 = 85\n",
            "정수 = 86\n",
            "2배수\n",
            "정수 = 87\n",
            "정수 = 88\n",
            "2배수\n",
            "정수 = 89\n",
            "정수 = 90\n",
            "2배수\n",
            "정수 = 91\n",
            "정수 = 92\n",
            "2배수\n",
            "정수 = 93\n",
            "정수 = 94\n",
            "2배수\n",
            "정수 = 95\n",
            "정수 = 96\n",
            "2배수\n",
            "정수 = 97\n",
            "정수 = 98\n",
            "2배수\n",
            "정수 = 99\n",
            "정수 = 100\n",
            "2배수\n"
          ]
        }
      ]
    }
  ]
}