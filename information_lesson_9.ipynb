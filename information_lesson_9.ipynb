{
  "nbformat": 4,
  "nbformat_minor": 0,
  "metadata": {
    "colab": {
      "provenance": [],
      "authorship_tag": "ABX9TyOl9IrHgQTAqlk7ALksyULK",
      "include_colab_link": true
    },
    "kernelspec": {
      "name": "python3",
      "display_name": "Python 3"
    },
    "language_info": {
      "name": "python"
    }
  },
  "cells": [
    {
      "cell_type": "markdown",
      "metadata": {
        "id": "view-in-github",
        "colab_type": "text"
      },
      "source": [
        "<a href=\"https://colab.research.google.com/github/kaaaaaav/python-practice/blob/information/information_lesson_9.ipynb\" target=\"_parent\"><img src=\"https://colab.research.google.com/assets/colab-badge.svg\" alt=\"Open In Colab\"/></a>"
      ]
    },
    {
      "cell_type": "code",
      "execution_count": 8,
      "metadata": {
        "colab": {
          "base_uri": "https://localhost:8080/"
        },
        "id": "qvz8diQvmKlf",
        "outputId": "ded46eba-255e-4add-e03a-e23296d25624"
      },
      "outputs": [
        {
          "output_type": "stream",
          "name": "stdout",
          "text": [
            "숫자 암거나 ㄱㄱ : 8\n",
            "you are gay\n",
            "agagagag\n"
          ]
        }
      ],
      "source": [
        "# if문 연습 2\n",
        "num = float(input(\"숫자 암거나 ㄱㄱ : \"))\n",
        "if num < 10:\n",
        "  print(\"you are gay\")\n",
        "if num >= 10:\n",
        "  print(\"you are macho man\")\n",
        "  print(\"big boy ang\")\n",
        "# 들여쓰기 안하면 들여쓰기 안한 코드는 if 블록과 무관하게 출력된다\n",
        "print(\"agagagag\")"
      ]
    },
    {
      "cell_type": "code",
      "source": [
        "# 들여쓰기 유의사항\n",
        "# 공백 개수가 자유롭다고 해도 블록 내의 모든 코드 들여쓰기 횟수는 동일해야 한다\n",
        "# 오류 x인 경우\n",
        "num = float(input())\n",
        "if num == 10:\n",
        "    print(22)\n",
        "    print(33)\n",
        "if num != 10:\n",
        "  print(88)\n",
        "  print(234)"
      ],
      "metadata": {
        "colab": {
          "base_uri": "https://localhost:8080/"
        },
        "id": "P4yYyyx1n3D1",
        "outputId": "363b2a39-d696-430d-ed57-0b8fd3890b9e"
      },
      "execution_count": 7,
      "outputs": [
        {
          "output_type": "stream",
          "name": "stdout",
          "text": [
            "10\n",
            "22\n",
            "33\n"
          ]
        }
      ]
    },
    {
      "cell_type": "code",
      "source": [
        "# 오류나는 경우\n",
        "num = float(input())\n",
        "if num != 10:\n",
        "  print(33)\n",
        "   print(234)"
      ],
      "metadata": {
        "colab": {
          "base_uri": "https://localhost:8080/",
          "height": 137
        },
        "id": "kAJvAUDDodG8",
        "outputId": "2ea2cde2-0870-4c06-9059-ea66a07debc7"
      },
      "execution_count": 9,
      "outputs": [
        {
          "output_type": "error",
          "ename": "IndentationError",
          "evalue": "ignored",
          "traceback": [
            "\u001b[0;36m  File \u001b[0;32m\"<ipython-input-9-11382ebeead4>\"\u001b[0;36m, line \u001b[0;32m5\u001b[0m\n\u001b[0;31m    print(234)\u001b[0m\n\u001b[0m    ^\u001b[0m\n\u001b[0;31mIndentationError\u001b[0m\u001b[0;31m:\u001b[0m unexpected indent\n"
          ]
        }
      ]
    },
    {
      "cell_type": "code",
      "source": [
        "# else문\n",
        "# else 뜻 : 그렇지 않으면\n",
        "score = float(input('점수를 입력하세요 : '))\n",
        "\n",
        "if score >= 80:\n",
        "  print('합격입니다.')\n",
        "else:\n",
        "  print('아쉽습니다. 다시 도전해주세요.')"
      ],
      "metadata": {
        "colab": {
          "base_uri": "https://localhost:8080/"
        },
        "id": "a_FoJTKtpjGE",
        "outputId": "a4d4e9e4-6a34-44e1-eede-a4c3b9873b6e"
      },
      "execution_count": 13,
      "outputs": [
        {
          "output_type": "stream",
          "name": "stdout",
          "text": [
            "점수를 입력하세요 : -21\n",
            "아쉽습니다. 다시 도전해주세요.\n"
          ]
        }
      ]
    },
    {
      "cell_type": "code",
      "source": [
        "today = input(\"오늘은 무슨 요일? \")\n",
        "if today == \"일요일\":\n",
        "  print('게임 한 판')\n",
        "else:\n",
        "  print('폰 5분만')\n",
        "print('공부 시작')"
      ],
      "metadata": {
        "colab": {
          "base_uri": "https://localhost:8080/"
        },
        "id": "wiycI1lorBJl",
        "outputId": "c519a1d8-a890-41c4-89f1-5ac03519ca00"
      },
      "execution_count": 18,
      "outputs": [
        {
          "output_type": "stream",
          "name": "stdout",
          "text": [
            "오늘은 무슨 요일? 일요일\n",
            "게임 한 판\n",
            "공부 시작\n"
          ]
        }
      ]
    },
    {
      "cell_type": "code",
      "source": [
        "# 예제2\n",
        "name = input(\"이름을 입력하세요 : \")\n",
        "age = int(input(\"나이를 입력하세요 : \"))\n",
        "if age >= 19:\n",
        "\tprint(name,\"님은 성년입니다.\")\n",
        "\tprint(\"입장하세요~\")\n",
        "else:\n",
        "\tprint(name, \"님은 미성년입니다.\")\n",
        "\tprint(\"출입할 수 없습니다.\")"
      ],
      "metadata": {
        "colab": {
          "base_uri": "https://localhost:8080/"
        },
        "id": "bZnS9huRsXPM",
        "outputId": "d4e24614-4f8f-456e-8d11-3cae3391f191"
      },
      "execution_count": 20,
      "outputs": [
        {
          "output_type": "stream",
          "name": "stdout",
          "text": [
            "이름을 입력하세요 : 아아라\n",
            "나이를 입력하세요 : 2182\n",
            "아아라 님은 성년입니다.\n",
            "입장하세요~\n"
          ]
        }
      ]
    },
    {
      "cell_type": "code",
      "source": [
        "# elif문\n",
        "score = float(input('니 점수? '))\n",
        "\n",
        "if score < 60 and score >= 50:\n",
        "  print(\"E\")\n",
        "elif score >= 60 and score < 70:\n",
        "  print(\"D\")\n",
        "elif score >= 70 and score < 80:\n",
        "  print(\"C\")\n",
        "elif score >= 80 and score < 90:\n",
        "  print(\"B\")\n",
        "elif score >= 90:\n",
        "  print(\"A\")\n",
        "else:\n",
        "  print(\"F\")"
      ],
      "metadata": {
        "colab": {
          "base_uri": "https://localhost:8080/"
        },
        "id": "Z43IUrMTtubr",
        "outputId": "2c3f8730-1bd8-4bf7-b366-ce1a29764918"
      },
      "execution_count": 29,
      "outputs": [
        {
          "output_type": "stream",
          "name": "stdout",
          "text": [
            "니 점수? 23\n",
            "F\n"
          ]
        }
      ]
    }
  ]
}