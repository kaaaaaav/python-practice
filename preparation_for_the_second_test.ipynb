{
  "nbformat": 4,
  "nbformat_minor": 0,
  "metadata": {
    "colab": {
      "provenance": [],
      "authorship_tag": "ABX9TyMmu6Q3MIbHrk+4Dx1jPiai",
      "include_colab_link": true
    },
    "kernelspec": {
      "name": "python3",
      "display_name": "Python 3"
    },
    "language_info": {
      "name": "python"
    }
  },
  "cells": [
    {
      "cell_type": "markdown",
      "metadata": {
        "id": "view-in-github",
        "colab_type": "text"
      },
      "source": [
        "<a href=\"https://colab.research.google.com/github/kaaaaaav/python-practice/blob/information/preparation_for_the_second_test.ipynb\" target=\"_parent\"><img src=\"https://colab.research.google.com/assets/colab-badge.svg\" alt=\"Open In Colab\"/></a>"
      ]
    },
    {
      "cell_type": "code",
      "execution_count": 1,
      "metadata": {
        "colab": {
          "base_uri": "https://localhost:8080/"
        },
        "id": "vAFM69ZEjEP6",
        "outputId": "9f1d3803-3bc7-485e-9217-97749ab2e7a6"
      },
      "outputs": [
        {
          "output_type": "stream",
          "name": "stdout",
          "text": [
            "10\n",
            "9\n",
            "8\n",
            "7\n",
            "6\n",
            "5\n",
            "4\n",
            "3\n",
            "2\n"
          ]
        }
      ],
      "source": [
        "for c in range(10,1,-1):\n",
        "  print(c)"
      ]
    },
    {
      "cell_type": "code",
      "source": [
        "# list - 변수 =[내용물] 형태 - 불규칙 형태의 변수를 넣을 때 사용\n",
        "list1 = [1,2,4,7]\n",
        "for a in list1:\n",
        "  print(a)\n",
        "\n",
        "list2 = [7, 8, 10, 51]\n",
        "for b in list2:\n",
        "  print(b-7)"
      ],
      "metadata": {
        "colab": {
          "base_uri": "https://localhost:8080/"
        },
        "id": "sB3EfbqSpW2D",
        "outputId": "71a4ee67-0712-43a4-eb0d-49f993191e08"
      },
      "execution_count": 4,
      "outputs": [
        {
          "output_type": "stream",
          "name": "stdout",
          "text": [
            "1\n",
            "2\n",
            "4\n",
            "7\n",
            "0\n",
            "1\n",
            "3\n",
            "44\n"
          ]
        }
      ]
    }
  ]
}