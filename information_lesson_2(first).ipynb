{
  "nbformat": 4,
  "nbformat_minor": 0,
  "metadata": {
    "colab": {
      "provenance": [],
      "collapsed_sections": [],
      "toc_visible": true,
      "authorship_tag": "ABX9TyPniGUdW6CaRWH2MCokmv0z",
      "include_colab_link": true
    },
    "kernelspec": {
      "name": "python3",
      "display_name": "Python 3"
    },
    "language_info": {
      "name": "python"
    }
  },
  "cells": [
    {
      "cell_type": "markdown",
      "metadata": {
        "id": "view-in-github",
        "colab_type": "text"
      },
      "source": [
        "<a href=\"https://colab.research.google.com/github/kaaaaaav/python-practice/blob/information/information_lesson_2(first).ipynb\" target=\"_parent\"><img src=\"https://colab.research.google.com/assets/colab-badge.svg\" alt=\"Open In Colab\"/></a>"
      ]
    },
    {
      "cell_type": "markdown",
      "source": [
        "# **print**"
      ],
      "metadata": {
        "id": "FhzpoY2fUC_T"
      }
    },
    {
      "cell_type": "code",
      "source": [
        "print(\"dit34643543rwert4434\")\n",
        "print(324534674322222)\n",
        "print(input())\n",
        "파이썬=\"파이썬\"\n",
        "print(파이썬)\n",
        "print('ㅖㅏ')\n",
        "# 덧셈\n",
        "print(48+282)\n",
        "# 뺄셈\n",
        "print(3785-2843)\n",
        "# 곱셈\n",
        "print(274*34)\n",
        "# 나눗셈(*소수 한자릿수까지 출력!!!)\n",
        "print(384784/28374)\n",
        "# 몫\n",
        "print(3782838//208384)\n",
        "# 나머지\n",
        "print(238382848%3871838)\n",
        "# 주의!!! 따옴표를 치면 문자로 취급!!\n",
        "print(\"123+456\")"
      ],
      "metadata": {
        "colab": {
          "base_uri": "https://localhost:8080/"
        },
        "id": "D_mZ_r_vUrJC",
        "outputId": "6f937d2f-3cae-4924-8b01-2da565c2daa1"
      },
      "execution_count": 21,
      "outputs": [
        {
          "output_type": "stream",
          "name": "stdout",
          "text": [
            "dit34643543rwert4434\n",
            "324534674322222\n",
            "ㅑㅏ\n",
            "ㅑㅏ\n",
            "파이썬\n",
            "ㅖㅏ\n",
            "330\n",
            "942\n",
            "9316\n",
            "13.56114752942835\n",
            "18\n",
            "2200730\n"
          ]
        }
      ]
    },
    {
      "cell_type": "code",
      "source": [
        "# 수식 example\n",
        "print(3*6)\n",
        "print(3/6)\n",
        "print(9/3)\n",
        "print(7//3)\n",
        "print(7%3)\n",
        "a=int(input(\"나눌 수? \"))\n",
        "b=int(input(\"나누는 수? \"))\n",
        "print(\"몫\")\n",
        "print(a//b)\n",
        "print(\"나머지\")\n",
        "print(a%b)"
      ],
      "metadata": {
        "colab": {
          "base_uri": "https://localhost:8080/"
        },
        "id": "kvGurV2WUye7",
        "outputId": "eca81c56-ad90-4307-934f-f31ecefa3c81"
      },
      "execution_count": 33,
      "outputs": [
        {
          "output_type": "stream",
          "name": "stdout",
          "text": [
            "18\n",
            "0.5\n",
            "3.0\n",
            "2\n",
            "1\n",
            "나눌 수? 3\n",
            "나누는 수? 9\n",
            "몫\n",
            "0\n",
            "나머지\n",
            "3\n"
          ]
        }
      ]
    },
    {
      "cell_type": "markdown",
      "source": [
        "# if"
      ],
      "metadata": {
        "id": "3zQlC7zFYfFD"
      }
    },
    {
      "cell_type": "code",
      "source": [
        "a=int(input(\"3+6은? \"))\n",
        "if a = 9:\n",
        "    print(\"정답\")\n",
        "else:\n",
        "  print(\"오답\")\n",
        "    \n"
      ],
      "metadata": {
        "colab": {
          "base_uri": "https://localhost:8080/",
          "height": 137
        },
        "id": "oIHSwUivYk8c",
        "outputId": "b33ca55b-8126-4a4d-c8e7-2e455095b2ff"
      },
      "execution_count": 38,
      "outputs": [
        {
          "output_type": "error",
          "ename": "SyntaxError",
          "evalue": "ignored",
          "traceback": [
            "\u001b[0;36m  File \u001b[0;32m\"<ipython-input-38-0c8236b4f339>\"\u001b[0;36m, line \u001b[0;32m2\u001b[0m\n\u001b[0;31m    if a = 9:\u001b[0m\n\u001b[0m         ^\u001b[0m\n\u001b[0;31mSyntaxError\u001b[0m\u001b[0;31m:\u001b[0m invalid syntax\n"
          ]
        }
      ]
    }
  ]
}